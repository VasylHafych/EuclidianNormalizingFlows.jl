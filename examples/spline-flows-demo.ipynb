{
 "cells": [
  {
   "cell_type": "code",
   "execution_count": 2,
   "id": "b1775d4a-d017-4b96-87fb-8f486d4969ae",
   "metadata": {},
   "outputs": [
    {
     "name": "stderr",
     "output_type": "stream",
     "text": [
      "┌ Info: Precompiling EuclidianNormalizingFlows [eb90128f-7c94-4cd6-9130-4bb7c9abac9d]\n",
      "└ @ Base loading.jl:1423\n"
     ]
    }
   ],
   "source": [
    "using ChangesOfVariables, InverseFunctions, ArraysOfArrays, Statistics\n",
    "using Optimisers\n",
    "using PyPlot\n",
    "using Distributions\n",
    "using LinearAlgebra\n",
    "using Test\n",
    "\n",
    "# using ForwardDiff\n",
    "# using ReverseDiff\n",
    "using FiniteDifferences\n",
    "\n",
    "using Revise\n",
    "using EuclidianNormalizingFlows"
   ]
  },
  {
   "cell_type": "code",
   "execution_count": 1,
   "id": "388f4d32",
   "metadata": {},
   "outputs": [
    {
     "name": "stderr",
     "output_type": "stream",
     "text": [
      "\u001b[32m\u001b[1m  Activating\u001b[22m\u001b[39m project at `~/.julia/environments/splines`\n"
     ]
    }
   ],
   "source": [
    "using Pkg\n",
    "Pkg.activate(\"/home/micki/.julia/environments/splines\")"
   ]
  },
  {
   "cell_type": "code",
   "execution_count": 3,
   "id": "afdf2314",
   "metadata": {},
   "outputs": [
    {
     "name": "stdout",
     "output_type": "stream",
     "text": [
      "Raaaarrhghghghghghg!\n"
     ]
    }
   ],
   "source": [
    "EuclidianNormalizingFlows.test_branch()"
   ]
  },
  {
   "cell_type": "code",
   "execution_count": 4,
   "id": "93f8bdf7-9ddc-4120-935c-9cb4b292c37e",
   "metadata": {
    "tags": []
   },
   "outputs": [
    {
     "name": "stdout",
     "output_type": "stream",
     "text": [
      "Test no. 1 successfull!\n",
      "Test no. 2 successfull!\n",
      "Test no. 3 successfull!\n",
      "Test no. 4 successfull!\n",
      "Test no. 5 successfull!\n",
      "Test no. 6 successfull!\n",
      "Test no. 7 successfull!\n",
      "Test no. 8 successfull!\n",
      "Test no. 9 successfull!\n",
      "Test no. 10 successfull!\n",
      "Test no. 11 successfull!\n",
      "Test no. 12 successfull!\n",
      "Test no. 13 successfull!\n",
      "Test no. 14 successfull!\n",
      "Test no. 15 successfull!\n",
      "Test no. 16 successfull!\n",
      "Test no. 17 successfull!\n",
      "Test no. 18 successfull!\n",
      "Test no. 19 successfull!\n",
      "Test no. 20 successfull!\n"
     ]
    }
   ],
   "source": [
    "# Compare transformation results & gradients using Finite Differences and and handwritten pullbacks.\n",
    "\n",
    "function run_test_suite(; nrepetitions = 20,\n",
    "        ndims = 8,\n",
    "        nparams = 5,\n",
    "        nsmpls = 15,\n",
    "        dist = Uniform(-3, 3),\n",
    "    )\n",
    "    \n",
    "    for i in 1:nrepetitions\n",
    "        \n",
    "        algo = central_fdm(5, 1)\n",
    "        rtol = 0.001\n",
    "\n",
    "        w = rand(dist, ndims, nparams)\n",
    "        h = rand(dist, ndims, nparams)\n",
    "        d = rand(dist, ndims, nparams-1)\n",
    "        x = rand(Normal(0, 5), ndims, nsmpls)\n",
    "        \n",
    "        try \n",
    "            \n",
    "            trafo_frwd = RationalQuadSpline(w,h,d)\n",
    "            trafo_bcwd = RationalQuadSplineInv(w,h,d)\n",
    "\n",
    "            x_fwd, jac_frwd = EuclidianNormalizingFlows.with_logabsdet_jacobian(trafo_frwd, x)\n",
    "            x_bcwd, jac_bcwd = EuclidianNormalizingFlows.with_logabsdet_jacobian(trafo_bcwd, x_fwd) \n",
    "\n",
    "            @test x_bcwd ≈ x\n",
    "            @test jac_frwd ≈ -jac_bcwd\n",
    "\n",
    "            for j in 1:size(x, 2)\n",
    "                xrun = x[:,j]\n",
    "                autodiff_jac = FiniteDifferences.jacobian(algo, xtmp -> trafo_frwd(reshape(xtmp, ndims,1)), xrun )[1]\n",
    "                @test isapprox.(log(abs(det(autodiff_jac))), jac_frwd[1,j], rtol = rtol)\n",
    "                @test isapprox.(log(abs(det(autodiff_jac))), -jac_bcwd[1, j], rtol = rtol)\n",
    "            end\n",
    "\n",
    "            neg_ll, gradvals = EuclidianNormalizingFlows.mvnormal_negll_trafograd(trafo_frwd, x)\n",
    "\n",
    "            a_run = FiniteDifferences.grad(algo, par -> EuclidianNormalizingFlows.mvnormal_negll_trafo(RationalQuadSpline(par,h,d), x), w)[1]\n",
    "            @test isapprox(a_run, gradvals.widths, rtol = rtol)\n",
    "\n",
    "            a_run = FiniteDifferences.grad(algo, par -> EuclidianNormalizingFlows.mvnormal_negll_trafo(RationalQuadSpline(w,par,d), x), h)[1]\n",
    "            @test isapprox(a_run, gradvals.heights, rtol = rtol)\n",
    "\n",
    "            a_run = FiniteDifferences.grad(algo, par -> EuclidianNormalizingFlows.mvnormal_negll_trafo(RationalQuadSpline(w,h,par), x), d)[1]\n",
    "            @test isapprox(a_run, gradvals.derivatives, rtol = rtol)\n",
    "            \n",
    "            println(\"Test no. $i successfull!\")\n",
    "        catch \n",
    "            print(\"Test error. Parameters: \\n\")\n",
    "            @show w, h, d, x\n",
    "        end\n",
    "        \n",
    "    end\n",
    "end\n",
    "\n",
    "run_test_suite()"
   ]
  },
  {
   "cell_type": "markdown",
   "id": "f0a3040c-30e9-4c3b-b341-303b6b56ac9b",
   "metadata": {},
   "source": [
    "# 2D fit: "
   ]
  },
  {
   "cell_type": "code",
   "execution_count": null,
   "id": "851f5c8b-c3d7-492a-9713-b521de3f5113",
   "metadata": {},
   "outputs": [],
   "source": [
    "nparams = 20\n",
    "nsmpls = 6000\n",
    "ndims = 2\n",
    "K = nparams\n",
    "\n",
    "dist = Uniform(-1, 1)\n",
    "\n",
    "trafo_truth = RationalQuadSplineInv(rand(dist, ndims, nparams),rand(dist, ndims, nparams),rand(dist, ndims, nparams-1))\n",
    "\n",
    "y = rand(Normal(0, 1), ndims, nsmpls)\n",
    "x = trafo_truth(y);"
   ]
  },
  {
   "cell_type": "code",
   "execution_count": null,
   "id": "206dd995-5fbd-4610-a8bd-7e4dbd023e21",
   "metadata": {},
   "outputs": [],
   "source": [
    "@test x ≈ RationalQuadSpline(trafo_truth.widths,trafo_truth.heights,trafo_truth.derivatives)(RationalQuadSplineInv(trafo_truth.widths,trafo_truth.heights,trafo_truth.derivatives)(x))"
   ]
  },
  {
   "cell_type": "code",
   "execution_count": null,
   "id": "bc2593eb-51b9-4f93-8a36-24842e50b843",
   "metadata": {},
   "outputs": [],
   "source": [
    "fig, ax = plt.subplots(1,2,  figsize=(8,4))\n",
    "\n",
    "ax[1].hist2d(x[1,:], x[2,:], 100, cmap=\"Blues\")\n",
    "# ax[1].scatter(x[1,:], x[2,:], s=0.1, alpha=0.2, color=\"C0\")\n",
    "\n",
    "ax[2].hist2d(y[1,:], y[2,:], 100, cmap=\"Blues\")\n",
    "# ax[2].scatter(y[1,:], y[2,:], s=0.1, alpha=0.5, color=\"C0\")"
   ]
  },
  {
   "cell_type": "code",
   "execution_count": null,
   "id": "d0ca1bf6-660a-471e-95b9-60ebf37b651a",
   "metadata": {},
   "outputs": [],
   "source": [
    "# initial_trafo = \n",
    "#     EuclidianNormalizingFlows.JohnsonTrafo([10.0, 11.0], [3.5, 3.6], [10.0, 11.0], [1.0, 1.1]) ∘\n",
    "#     EuclidianNormalizingFlows.ScaleShiftTrafo(ones(ndims), zeros(ndims)) ∘  \n",
    "#     RationalQuadSpline(ones(ndims, nparams), ones(ndims, nparams), ones(ndims, nparams-1))\n",
    "\n",
    "# initial_trafo =  ScaleShiftTrafo(ones(ndims), zeros(ndims))\n",
    "\n",
    "initial_trafo =  RationalQuadSpline(ones(ndims, nparams), ones(ndims, nparams), ones(ndims, nparams-1))\n",
    "\n",
    "optimizer = ADAGrad()\n",
    "smpls = nestedview(x)\n",
    "nbatches = 20\n",
    "nepochs = 10 \n",
    "\n",
    "r = EuclidianNormalizingFlows.optimize_whitening(smpls, initial_trafo, optimizer, nbatches = nbatches, nepochs = nepochs)"
   ]
  },
  {
   "cell_type": "code",
   "execution_count": null,
   "id": "2a2217d7-a22c-4fb9-9af4-d1545ec434c1",
   "metadata": {},
   "outputs": [],
   "source": [
    "yhat = r.result(x)"
   ]
  },
  {
   "cell_type": "code",
   "execution_count": null,
   "id": "e06830ec-de53-4d66-a9aa-6528d4918c32",
   "metadata": {},
   "outputs": [],
   "source": [
    "@show mean(yhat, dims=2)\n",
    "@show std(yhat, dims=2)"
   ]
  },
  {
   "cell_type": "code",
   "execution_count": null,
   "id": "e4871e8e-eca5-4d34-96c8-b7e760ca7347",
   "metadata": {},
   "outputs": [],
   "source": [
    "fig, ax = plt.subplots(1,2,  figsize=(8,4))\n",
    "\n",
    "ax[1].hist2d(x[1,:], x[2,:], 100, cmap=\"Blues\")\n",
    "# ax[1].scatter(x[1,:], x[2,:], s=0.1, alpha=0.2, color=\"C0\")\n",
    "\n",
    "ax[2].hist2d(yhat[1,:], yhat[2,:], 100, cmap=\"Blues\")\n",
    "# ax[2].scatter(y[1,:], y[2,:], s=0.1, alpha=0.5, color=\"C0\")"
   ]
  },
  {
   "cell_type": "code",
   "execution_count": null,
   "id": "90fcb0eb-92e4-4b34-bc85-16662a31b105",
   "metadata": {},
   "outputs": [],
   "source": [
    "fig, ax = plt.subplots(1,1,  figsize=(6,4))\n",
    "\n",
    "ax.plot(1:length(r.negll_history), r.negll_history)\n",
    "ax.set_ylabel(\"Cost\")\n",
    "ax.set_xlabel(\"Iteration\")"
   ]
  },
  {
   "cell_type": "markdown",
   "id": "11b87214-3a1b-45c5-be53-987903936783",
   "metadata": {},
   "source": [
    "# 20D fit: "
   ]
  },
  {
   "cell_type": "code",
   "execution_count": null,
   "id": "811f9aec-1564-4ff3-8c71-e9dde326b1d9",
   "metadata": {},
   "outputs": [],
   "source": [
    "nparams = 20 # 1180 parameters in total\n",
    "nsmpls = 6000\n",
    "ndims = 20\n",
    "K = nparams\n",
    "dist = Uniform(-1, 1)\n",
    "\n",
    "y = rand(Normal(0, 1), ndims, nsmpls);"
   ]
  },
  {
   "cell_type": "code",
   "execution_count": null,
   "id": "50d5a19c-ede0-42e7-b7f7-b5d252737bbd",
   "metadata": {},
   "outputs": [],
   "source": [
    "bwd_true =\n",
    "#     EuclidianNormalizingFlows.ScaleShiftTrafo([1., 0.4], [2.5, -1.2]) ∘\n",
    "#     EuclidianNormalizingFlows.HouseholderTrafo([1.0, 0.3]) ∘\n",
    "#     EuclidianNormalizingFlows.CenterStretch([1.0, 0.1], [2.0, 2.1], [1.0, 1.1]) ∘\n",
    "    RationalQuadSplineInv(rand(dist, ndims, nparams),rand(dist, ndims, nparams),rand(dist, ndims, nparams-1))\n",
    "\n",
    "x = bwd_true(y)"
   ]
  },
  {
   "cell_type": "code",
   "execution_count": null,
   "id": "d261b204-9ec3-4335-8377-27b876a163b4",
   "metadata": {},
   "outputs": [],
   "source": [
    "fig, ax = plt.subplots(1,2,  figsize=(8,4))\n",
    "\n",
    "ax[1].hist2d(x[1,:], x[2,:], 100, cmap=\"Blues\")\n",
    "# ax[1].scatter(x[1,:], x[2,:], s=0.1, alpha=0.2, color=\"C0\")\n",
    "\n",
    "ax[2].hist2d(y[1,:], y[2,:], 100, cmap=\"Blues\");\n",
    "# ax[2].scatter(y[1,:], y[2,:], s=0.1, alpha=0.5, color=\"C0\")"
   ]
  },
  {
   "cell_type": "code",
   "execution_count": null,
   "id": "c89d305a-fbe1-47c0-8a56-d95e38db5fea",
   "metadata": {},
   "outputs": [],
   "source": [
    "initial_trafo = \n",
    "    RationalQuadSpline(ones(ndims, 40), ones(ndims, 40), ones(ndims, 40-1)) #∘\n",
    "#     EuclidianNormalizingFlows.ScaleShiftTrafo([1., 1], [2., 2]) \n",
    "\n",
    "optimizer = ADAGrad(0.1)\n",
    "smpls = nestedview(x)\n",
    "nbatches = 50\n",
    "nepochs = 10 \n",
    "\n",
    "r = EuclidianNormalizingFlows.optimize_whitening(smpls, initial_trafo, optimizer, nbatches = nbatches, nepochs = nepochs);"
   ]
  },
  {
   "cell_type": "code",
   "execution_count": null,
   "id": "1c9d73f4-c63d-4fd5-a23f-22ac21598878",
   "metadata": {},
   "outputs": [],
   "source": [
    "yhat = r.result(x);"
   ]
  },
  {
   "cell_type": "code",
   "execution_count": null,
   "id": "08a09388-1137-4f7c-ac94-5b1ed2a274b3",
   "metadata": {},
   "outputs": [],
   "source": [
    "@show mean(yhat, dims=2)\n",
    "@show std(yhat, dims=2);"
   ]
  },
  {
   "cell_type": "code",
   "execution_count": null,
   "id": "09eb20f8-3b24-4807-bd1f-2888270ffd11",
   "metadata": {},
   "outputs": [],
   "source": [
    "fig, ax = plt.subplots(1,2,  figsize=(8,4))\n",
    "\n",
    "ax[1].hist2d(x[1,:], x[2,:], 100, cmap=\"Blues\")\n",
    "# ax[1].scatter(x[1,:], x[2,:], s=0.1, alpha=0.2, color=\"C0\")\n",
    "\n",
    "ax[2].hist2d(yhat[1,:], yhat[2,:], 100, cmap=\"Blues\")\n",
    "# ax[2].scatter(y[1,:], y[2,:], s=0.1, alpha=0.5, color=\"C0\")"
   ]
  },
  {
   "cell_type": "code",
   "execution_count": null,
   "id": "f98cec70-507f-47be-b4c7-1dd730924b44",
   "metadata": {},
   "outputs": [],
   "source": [
    "fig, ax = plt.subplots(1,1,  figsize=(6,4))\n",
    "\n",
    "ax.plot(1:length(r.negll_history), r.negll_history)\n",
    "ax.set_ylabel(\"Cost\")\n",
    "ax.set_xlabel(\"Iteration\")"
   ]
  },
  {
   "cell_type": "code",
   "execution_count": null,
   "id": "8e1556a7-7b19-4c6b-b30c-6f5926ca9024",
   "metadata": {},
   "outputs": [],
   "source": []
  }
 ],
 "metadata": {
  "kernelspec": {
   "display_name": "Julia 1.7.2",
   "language": "julia",
   "name": "julia-1.7"
  },
  "language_info": {
   "file_extension": ".jl",
   "mimetype": "application/julia",
   "name": "julia",
   "version": "1.7.2"
  }
 },
 "nbformat": 4,
 "nbformat_minor": 5
}
