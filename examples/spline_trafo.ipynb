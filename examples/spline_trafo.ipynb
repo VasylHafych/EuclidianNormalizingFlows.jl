{
 "cells": [
  {
   "cell_type": "code",
   "execution_count": 1,
   "id": "bf79b1d9-ad71-41e9-8436-f3d6889df646",
   "metadata": {},
   "outputs": [
    {
     "name": "stderr",
     "output_type": "stream",
     "text": [
      "┌ Info: Precompiling EuclidianNormalizingFlows [eb90128f-7c94-4cd6-9130-4bb7c9abac9d]\n",
      "└ @ Base loading.jl:1423\n"
     ]
    }
   ],
   "source": [
    "using ChangesOfVariables, InverseFunctions, ArraysOfArrays, Statistics\n",
    "using Optimisers\n",
    "using Plots\n",
    "using LaTeXStrings\n",
    "using Revise\n",
    "using EuclidianNormalizingFlows"
   ]
  },
  {
   "cell_type": "markdown",
   "id": "eaa36f17-8c06-4277-aabc-f01c29cdc330",
   "metadata": {},
   "source": [
    "# NF Example: "
   ]
  },
  {
   "cell_type": "code",
   "execution_count": 2,
   "id": "4eaedb59-4a50-4740-abf3-dfbb10455229",
   "metadata": {},
   "outputs": [
    {
     "data": {
      "text/plain": [
       "(::RationalQuadratic{Vector{Float64}}) (generic function with 2 methods)"
      ]
     },
     "execution_count": 2,
     "metadata": {},
     "output_type": "execute_result"
    }
   ],
   "source": [
    "widths = [-1, -0.9, -0.6, -0.1, 0.4, 0.6, 0.9, 1.0]\n",
    "heigths = [-1, -0.9, -0.6, -0.1, 0.4, 0.6, 0.9, 1.0]\n",
    "derivaties = [10.4, 0.5, 1.2, 20.5, 0.0, 20.1, 1.9];\n",
    "\n",
    "transf_forw = RationalQuadratic(widths, heigths, derivaties)"
   ]
  },
  {
   "cell_type": "code",
   "execution_count": 3,
   "id": "b3d64463-23ba-4c2d-87c7-415d28624982",
   "metadata": {},
   "outputs": [
    {
     "data": {
      "text/plain": [
       "3×5 Matrix{Float64}:\n",
       " 0.872509  0.53815   0.804371  0.498845   0.933103\n",
       " 0.592837  0.572738  0.438647  0.104354   0.507693\n",
       " 0.930671  0.625509  0.90422   0.0406971  0.847202"
      ]
     },
     "execution_count": 3,
     "metadata": {},
     "output_type": "execute_result"
    }
   ],
   "source": [
    "xtmp = rand(3, 5)"
   ]
  },
  {
   "cell_type": "code",
   "execution_count": 4,
   "id": "e2141d46-c62f-4c9a-b76f-975eefcf04a4",
   "metadata": {},
   "outputs": [
    {
     "data": {
      "text/plain": [
       "3×5 Matrix{Float64}:\n",
       " 0.88125   0.419609  0.871129  0.408843  0.94422\n",
       " 0.514418  0.447651  0.401954  0.368046  0.410547\n",
       " 0.941807  0.78439   0.907582  0.345539  0.876425"
      ]
     },
     "execution_count": 4,
     "metadata": {},
     "output_type": "execute_result"
    }
   ],
   "source": [
    "transf_forw(xtmp)"
   ]
  },
  {
   "cell_type": "code",
   "execution_count": 5,
   "id": "68dff1f3-a6e9-45a1-a157-552dddf7842a",
   "metadata": {},
   "outputs": [
    {
     "data": {
      "text/plain": [
       "([0.8812495467369508 0.4196093093087312 … 0.408842913171883 0.9442198799551846; 0.5144184641431413 0.4476507866201178 … 0.3680461576049914 0.41054692677177584; 0.9418071662000527 0.7843900086956436 … 0.345538524334558 0.8764246054228768], [0.6528754477512035 0.5363186266869262 … -3.8096722366993077 -3.5218526354027824])"
      ]
     },
     "execution_count": 5,
     "metadata": {},
     "output_type": "execute_result"
    }
   ],
   "source": [
    "v = with_logabsdet_jacobian(transf_forw, xtmp)"
   ]
  },
  {
   "cell_type": "code",
   "execution_count": 6,
   "id": "67084a78-6d8d-44e2-9385-5c251f46c2bc",
   "metadata": {},
   "outputs": [
    {
     "data": {
      "text/plain": [
       "3×5 Matrix{Float64}:\n",
       " 0.88125   0.419609  0.871129  0.408843  0.94422\n",
       " 0.514418  0.447651  0.401954  0.368046  0.410547\n",
       " 0.941807  0.78439   0.907582  0.345539  0.876425"
      ]
     },
     "execution_count": 6,
     "metadata": {},
     "output_type": "execute_result"
    }
   ],
   "source": [
    "v[1]"
   ]
  },
  {
   "cell_type": "code",
   "execution_count": 7,
   "id": "ab8e1968-5278-41cc-9bee-fc71e2b3f217",
   "metadata": {},
   "outputs": [
    {
     "data": {
      "text/plain": [
       "1×5 adjoint(::Vector{Float64}) with eltype Float64:\n",
       " 0.652875  0.536319  -4.2306  -3.80967  -3.52185"
      ]
     },
     "execution_count": 7,
     "metadata": {},
     "output_type": "execute_result"
    }
   ],
   "source": [
    "v[2]"
   ]
  },
  {
   "cell_type": "code",
   "execution_count": 8,
   "id": "005aa153-7395-49c9-828e-6232babf47f2",
   "metadata": {},
   "outputs": [
    {
     "data": {
      "text/plain": [
       "(::RationalQuadraticInv{Vector{Float64}}) (generic function with 2 methods)"
      ]
     },
     "execution_count": 8,
     "metadata": {},
     "output_type": "execute_result"
    }
   ],
   "source": [
    "transf_inv = inverse(transf_forw)"
   ]
  },
  {
   "cell_type": "code",
   "execution_count": 9,
   "id": "5cb555fb-0c77-46ae-9381-9044014ef0a7",
   "metadata": {},
   "outputs": [
    {
     "data": {
      "text/plain": [
       "3×5 Matrix{Float64}:\n",
       " 0.872509  0.53815   0.804371  0.498845   0.933103\n",
       " 0.592837  0.572738  0.438647  0.104354   0.507693\n",
       " 0.930671  0.625509  0.90422   0.0406971  0.847202"
      ]
     },
     "execution_count": 9,
     "metadata": {},
     "output_type": "execute_result"
    }
   ],
   "source": [
    "transf_inv(transf_forw(xtmp))"
   ]
  },
  {
   "cell_type": "code",
   "execution_count": 10,
   "id": "9740842e-6f80-4a72-ac0d-61e179cd55b5",
   "metadata": {},
   "outputs": [
    {
     "data": {
      "text/plain": [
       "([0.8725085188652976 0.5381500234954341 … 0.49884508900843094 0.9331027147436523; 0.5928372940889963 0.5727375940049844 … 0.10435364114295151 0.5076933588528895; 0.930670590903401 0.6255087095026057 … 0.04069711694944986 0.847201992001314], [-0.6528754477512537 -0.536318626686932 … 3.809672236699305 3.5218526354027837])"
      ]
     },
     "execution_count": 10,
     "metadata": {},
     "output_type": "execute_result"
    }
   ],
   "source": [
    "v = with_logabsdet_jacobian(transf_inv, transf_forw(xtmp))"
   ]
  },
  {
   "cell_type": "code",
   "execution_count": 11,
   "id": "91b3dd54-03ef-4685-a00c-78655b1a721f",
   "metadata": {},
   "outputs": [
    {
     "data": {
      "text/plain": [
       "3×5 Matrix{Float64}:\n",
       " 0.872509  0.53815   0.804371  0.498845   0.933103\n",
       " 0.592837  0.572738  0.438647  0.104354   0.507693\n",
       " 0.930671  0.625509  0.90422   0.0406971  0.847202"
      ]
     },
     "execution_count": 11,
     "metadata": {},
     "output_type": "execute_result"
    }
   ],
   "source": [
    "v[1]"
   ]
  },
  {
   "cell_type": "code",
   "execution_count": 12,
   "id": "e137cee8-e542-4025-975b-1ebb159822f9",
   "metadata": {},
   "outputs": [
    {
     "data": {
      "text/plain": [
       "1×5 adjoint(::Vector{Float64}) with eltype Float64:\n",
       " -0.652875  -0.536319  4.2306  3.80967  3.52185"
      ]
     },
     "execution_count": 12,
     "metadata": {},
     "output_type": "execute_result"
    }
   ],
   "source": [
    "v[2]"
   ]
  },
  {
   "cell_type": "code",
   "execution_count": null,
   "id": "ce1aeeaf-2176-4242-b503-4aab71e301e1",
   "metadata": {},
   "outputs": [],
   "source": [
    "xvals = collect(range(-1.2, 1.2, 100))'\n",
    "\n",
    "rectangle(w, h, x, y) = Shape(x .+ [0,w,w,0], y .+ [0,0,h,h]) # for interval mask\n",
    "\n",
    "plot(widths, heigths, seriestype = :scatter, markercolor = :black, label = \"Knots\", legend = :topleft)\n",
    "plot!(rectangle(2,2,-1,-1), opacity=.2, label = \"Interval mask\")\n",
    "plot!(title = \"Forward and inverse rational quadratic Splines\", xlabel = L\"$x$\", ylabel = L\"$g_{\\theta}(x)$\")\n",
    "xlims!(-1.3, 1.3)\n",
    "ylims!(-1.3, 1.3)\n",
    "\n",
    "plot!(xvals', transf_forw(xvals)', linewidth = 2.0, linecolor = :red, label = \"RQ Spline\")\n",
    "plot!(xvals', transf_inv(xvals)', linewidth = 2.0, linecolor = :blue, label = \"Inverse RQ Spline\")"
   ]
  },
  {
   "cell_type": "code",
   "execution_count": null,
   "id": "4aa2232a-eacb-40a1-a290-aa6132a187c4",
   "metadata": {},
   "outputs": [],
   "source": []
  }
 ],
 "metadata": {
  "kernelspec": {
   "display_name": "Julia 1.7.2",
   "language": "julia",
   "name": "julia-1.7"
  },
  "language_info": {
   "file_extension": ".jl",
   "mimetype": "application/julia",
   "name": "julia",
   "version": "1.7.2"
  }
 },
 "nbformat": 4,
 "nbformat_minor": 5
}
