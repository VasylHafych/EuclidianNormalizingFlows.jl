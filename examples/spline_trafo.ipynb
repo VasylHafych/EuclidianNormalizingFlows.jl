{
 "cells": [
  {
   "cell_type": "code",
   "execution_count": null,
   "id": "bf79b1d9-ad71-41e9-8436-f3d6889df646",
   "metadata": {},
   "outputs": [],
   "source": [
    "using ChangesOfVariables, InverseFunctions, ArraysOfArrays, Statistics\n",
    "using Optimisers\n",
    "using Plots\n",
    "using LaTeXStrings\n",
    "using Revise\n",
    "using EuclidianNormalizingFlows"
   ]
  },
  {
   "cell_type": "markdown",
   "id": "eaa36f17-8c06-4277-aabc-f01c29cdc330",
   "metadata": {},
   "source": [
    "# NF Example: "
   ]
  },
  {
   "cell_type": "code",
   "execution_count": null,
   "id": "4eaedb59-4a50-4740-abf3-dfbb10455229",
   "metadata": {},
   "outputs": [],
   "source": [
    "widths = [-1, -0.9, -0.6, -0.1, 0.4, 0.6, 0.9, 1.0]\n",
    "heigths = [-1, -0.9, -0.6, -0.1, 0.4, 0.6, 0.9, 1.0]\n",
    "derivaties = [10.4, 0.5, 1.2, 20.5, 0.0, 20.1, 1.9];\n",
    "\n",
    "transf_forw = RationalQuadratic(widths, heigths, derivaties)"
   ]
  },
  {
   "cell_type": "code",
   "execution_count": null,
   "id": "b3d64463-23ba-4c2d-87c7-415d28624982",
   "metadata": {},
   "outputs": [],
   "source": [
    "xtmp = rand(3, 5)"
   ]
  },
  {
   "cell_type": "code",
   "execution_count": null,
   "id": "e2141d46-c62f-4c9a-b76f-975eefcf04a4",
   "metadata": {},
   "outputs": [],
   "source": [
    "transf_forw(xtmp)"
   ]
  },
  {
   "cell_type": "code",
   "execution_count": null,
   "id": "68dff1f3-a6e9-45a1-a157-552dddf7842a",
   "metadata": {},
   "outputs": [],
   "source": [
    "v = with_logabsdet_jacobian(transf_forw, xtmp)"
   ]
  },
  {
   "cell_type": "code",
   "execution_count": null,
   "id": "67084a78-6d8d-44e2-9385-5c251f46c2bc",
   "metadata": {},
   "outputs": [],
   "source": [
    "v[1]"
   ]
  },
  {
   "cell_type": "code",
   "execution_count": null,
   "id": "ab8e1968-5278-41cc-9bee-fc71e2b3f217",
   "metadata": {},
   "outputs": [],
   "source": [
    "v[2]"
   ]
  },
  {
   "cell_type": "code",
   "execution_count": null,
   "id": "005aa153-7395-49c9-828e-6232babf47f2",
   "metadata": {},
   "outputs": [],
   "source": [
    "transf_inv = inverse(transf_forw)"
   ]
  },
  {
   "cell_type": "code",
   "execution_count": null,
   "id": "5cb555fb-0c77-46ae-9381-9044014ef0a7",
   "metadata": {},
   "outputs": [],
   "source": [
    "transf_inv(transf_forw(xtmp))"
   ]
  },
  {
   "cell_type": "code",
   "execution_count": null,
   "id": "9740842e-6f80-4a72-ac0d-61e179cd55b5",
   "metadata": {},
   "outputs": [],
   "source": [
    "# To do: \n",
    "\n",
    "# v = with_logabsdet_jacobian(transf_inv, xtmp)"
   ]
  },
  {
   "cell_type": "code",
   "execution_count": null,
   "id": "ce1aeeaf-2176-4242-b503-4aab71e301e1",
   "metadata": {},
   "outputs": [],
   "source": [
    "xvals = collect(range(-1.2, 1.2, 100))'\n",
    "\n",
    "rectangle(w, h, x, y) = Shape(x .+ [0,w,w,0], y .+ [0,0,h,h]) # for interval mask\n",
    "\n",
    "plot(widths, heigths, seriestype = :scatter, markercolor = :black, label = \"Knots\", legend = :topleft)\n",
    "plot!(rectangle(2,2,-1,-1), opacity=.2, label = \"Interval mask\")\n",
    "plot!(title = \"Forward and inverse rational quadratic Splines\", xlabel = L\"$x$\", ylabel = L\"$g_{\\theta}(x)$\")\n",
    "xlims!(-1.3, 1.3)\n",
    "ylims!(-1.3, 1.3)\n",
    "\n",
    "plot!(xvals', transf_forw(xvals)', linewidth = 2.0, linecolor = :red, label = \"RQ Spline\")\n",
    "plot!(xvals', transf_inv(xvals)', linewidth = 2.0, linecolor = :blue, label = \"Inverse RQ Spline\")"
   ]
  },
  {
   "cell_type": "code",
   "execution_count": null,
   "id": "4b679a24-abaa-4c76-a047-8c0934dac751",
   "metadata": {},
   "outputs": [],
   "source": []
  }
 ],
 "metadata": {
  "kernelspec": {
   "display_name": "Julia 1.7.2",
   "language": "julia",
   "name": "julia-1.7"
  },
  "language_info": {
   "file_extension": ".jl",
   "mimetype": "application/julia",
   "name": "julia",
   "version": "1.7.2"
  }
 },
 "nbformat": 4,
 "nbformat_minor": 5
}
